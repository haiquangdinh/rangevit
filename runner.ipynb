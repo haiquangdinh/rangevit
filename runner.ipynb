{
 "cells": [
  {
   "cell_type": "code",
   "execution_count": null,
   "id": "59b07ecc-7149-4def-b56b-76421f393a95",
   "metadata": {},
   "outputs": [],
   "source": [
    "%cd /workspace/rangevit"
   ]
  },
  {
   "cell_type": "code",
   "execution_count": null,
   "id": "acd319b2-d6b7-4238-8ca4-b9a7b6272290",
   "metadata": {},
   "outputs": [],
   "source": [
    "!pip install -r requirements.txt\n",
    "!pip install numpy==1.24.4\n"
   ]
  },
  {
   "cell_type": "code",
   "execution_count": null,
   "id": "9f6d446e-3fbb-4302-8af1-81dae062b5f6",
   "metadata": {},
   "outputs": [],
   "source": [
    "#  Evaluation\n",
    "python -m torch.distributed.launch --nproc_per_node=1 --master_port=63545 --use_env main.py config_nusc.yaml --data_root '../data/nusc' --save_path 'logs' --checkpoint 'pretrain/model_nuscenes_cs_init.pth' --val_only"
   ]
  },
  {
   "cell_type": "code",
   "execution_count": null,
   "id": "7373efe0",
   "metadata": {},
   "outputs": [],
   "source": [
    "# Train\n",
    "python -m torch.distributed.launch --nproc_per_node=1 --master_port=63545 --use_env main.py config_nusc.yaml --data_root '../data/nusc' --save_path 'logs' --pretrained_model 'timmImageNet21k'"
   ]
  },
  {
   "cell_type": "code",
   "execution_count": null,
   "id": "2c69ae21-3b4a-40b2-a862-0d0ab7b13677",
   "metadata": {},
   "outputs": [],
   "source": [
    "# Evaluation\n",
    "python -m torch.distributed.launch --nproc_per_node=1 --master_port=63545  --use_env main.py 'config_kitti.yaml'  --data_root '../data/kitti/dataset/sequences'  --save_path 'logs' --checkpoint 'pretrain/model_skitti_trainval_cs_init_h256.pth' --val_only\n"
   ]
  },
  {
   "cell_type": "code",
   "execution_count": null,
   "id": "a61d057e",
   "metadata": {},
   "outputs": [],
   "source": [
    "\n",
    "python -m torch.distributed.launch --nproc_per_node=1 --master_port=63545  --use_env main.py 'config_kitti.yaml'  --data_root '../data/kitti/dataset/sequences'  --save_path 'logs' --pretrained_model 'timmImageNet21k'\n"
   ]
  },
  {
   "cell_type": "code",
   "execution_count": null,
   "id": "445c7dc8",
   "metadata": {},
   "outputs": [],
   "source": [
    "python rangevit_trainer.py 'config_kitti.yaml'  --data_root '../data/kitti/dataset/sequences'  --save_path 'logs' --checkpoint 'pretrain/model_skitti_trainval_cs_init_h256.pth' --val_only\n"
   ]
  }
 ],
 "metadata": {
  "kernelspec": {
   "display_name": ".venv",
   "language": "python",
   "name": "python3"
  },
  "language_info": {
   "codemirror_mode": {
    "name": "ipython",
    "version": 3
   },
   "file_extension": ".py",
   "mimetype": "text/x-python",
   "name": "python",
   "nbconvert_exporter": "python",
   "pygments_lexer": "ipython3",
   "version": "3.10.12"
  }
 },
 "nbformat": 4,
 "nbformat_minor": 5
}
