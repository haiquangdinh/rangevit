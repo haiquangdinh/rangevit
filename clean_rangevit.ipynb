{
 "cells": [
  {
   "cell_type": "markdown",
   "id": "c379e83a",
   "metadata": {},
   "source": [
    "# <span style=\"color:red; font-weight:bold; \">A clean and modern RangeViT implementation for SemanticKITTI in PyTorch 2.4</span>  "
   ]
  },
  {
   "cell_type": "markdown",
   "id": "a85e44a8",
   "metadata": {},
   "source": [
    "## <span style=\"font-weight:bold\">1. DataLoader</span>\n",
    "\n",
    "### 1.1 Dataset Structure\n",
    "The dataset should be structured as follows:\n",
    "```\n",
    "sequences/\n",
    "├── 03/\n",
    "│   ├── velodyne/\n",
    "│   │   ├── 000000.bin\n",
    "│   │   ├── 000001.bin\n",
    "│   ├── labels/\n",
    "│   │   ├── 000000.label\n",
    "│   │   ├── 000001.label\n",
    "```\n",
    "\n"
   ]
  },
  {
   "cell_type": "code",
   "execution_count": null,
   "id": "c5203ebc",
   "metadata": {},
   "outputs": [],
   "source": [
    "## DataLoader\n",
    "\n",
    "import os\n",
    "import torch\n",
    "from torch.utils.data import Dataset\n",
    "import numpy as np\n",
    "import torchvision.transforms as transforms\n",
    "\n",
    "class KITTISegmentationDataset(Dataset):\n",
    "    def __init__(self, root_dir, label_dir, input_size=(256, 256), transform=None):\n",
    "        self.root_dir = root_dir\n",
    "        self.label_dir = label_dir\n",
    "        self.file_list = file_list  # list of filenames without extension\n",
    "        self.input_size = input_size\n",
    "        self.transform = transform\n",
    "\n",
    "    # Read the point cloud data from binary files\n",
    "    @staticmethod\n",
    "    def readPCD(path):\n",
    "        pcd = np.fromfile(path, dtype=np.float32).reshape(-1, 4)\n",
    "        return pcd\n",
    "    \n",
    "    # Read the label data from files\n",
    "    @staticmethod\n",
    "    def readLabel(path):\n",
    "        label = np.fromfile(path, dtype=np.int32)\n",
    "        sem_label = label & 0xFFFF  # semantic label in lower half\n",
    "        inst_label = label >> 16  # instance id in upper half\n",
    "        return sem_label, inst_label\n",
    "    \n",
    "    def __len__(self):\n",
    "        return len(self.file_list)\n",
    "\n",
    "    def _read_image(self, path, shape, dtype=np.float32):\n",
    "        return np.fromfile(path, dtype=dtype).reshape(shape)\n",
    "\n",
    "    def __getitem__(self, idx):\n",
    "        fname = self.file_list[idx]\n",
    "        img_path = os.path.join(self.data_dir, f\"{fname}.bin\")\n",
    "        label_path = os.path.join(self.label_dir, f\"{fname}.bin\")\n",
    "\n",
    "        # Load binary data\n",
    "        img = self._read_image(img_path, (*self.input_size, 8))  # shape [H, W, 8]\n",
    "        label = self._read_image(label_path, self.input_size, dtype=np.int64)  # shape [H, W]\n",
    "\n",
    "        img = torch.tensor(img).permute(2, 0, 1).float()  # to [8, H, W]\n",
    "        label = torch.tensor(label).long()                # [H, W]\n",
    "\n",
    "        if self.transform:\n",
    "            img = self.transform(img)\n",
    "\n",
    "        return img, label"
   ]
  }
 ],
 "metadata": {
  "kernelspec": {
   "display_name": "cleanViT",
   "language": "python",
   "name": "python3"
  },
  "language_info": {
   "codemirror_mode": {
    "name": "ipython",
    "version": 3
   },
   "file_extension": ".py",
   "mimetype": "text/x-python",
   "name": "python",
   "nbconvert_exporter": "python",
   "pygments_lexer": "ipython3",
   "version": "3.12.7"
  }
 },
 "nbformat": 4,
 "nbformat_minor": 5
}
